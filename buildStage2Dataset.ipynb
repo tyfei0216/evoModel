{
 "cells": [
  {
   "cell_type": "code",
   "execution_count": 1,
   "metadata": {},
   "outputs": [
    {
     "name": "stderr",
     "output_type": "stream",
     "text": [
      "/home/tyfei/anaconda3/envs/esm3/lib/python3.10/site-packages/tqdm/auto.py:21: TqdmWarning: IProgress not found. Please update jupyter and ipywidgets. See https://ipywidgets.readthedocs.io/en/stable/user_install.html\n",
      "  from .autonotebook import tqdm as notebook_tqdm\n"
     ]
    }
   ],
   "source": [
    "import json\n",
    "import os\n",
    "\n",
    "import numpy as np\n",
    "import torch\n",
    "\n",
    "import trainUtils\n"
   ]
  },
  {
   "cell_type": "code",
   "execution_count": 2,
   "metadata": {},
   "outputs": [],
   "source": [
    "with open(os.path.join(\"/home/tyfei/evoModel/checkpoints/backbone_lr/\", \"config.json\"), \"r\") as f:\n",
    "    configs = json.load(f)"
   ]
  },
  {
   "cell_type": "code",
   "execution_count": 3,
   "metadata": {},
   "outputs": [],
   "source": [
    "pretrain_model = trainUtils.loadPretrainModel(configs)\n",
    "model = trainUtils.buildModel(configs, pretrain_model, None) "
   ]
  },
  {
   "cell_type": "code",
   "execution_count": 4,
   "metadata": {},
   "outputs": [
    {
     "data": {
      "text/plain": [
       "_IncompatibleKeys(missing_keys=['esm_model.encoder.sequence_embed.weight', 'esm_model.encoder.plddt_projection.weight', 'esm_model.encoder.plddt_projection.bias', 'esm_model.encoder.structure_per_res_plddt_projection.weight', 'esm_model.encoder.structure_per_res_plddt_projection.bias', 'esm_model.encoder.structure_tokens_embed.weight', 'esm_model.encoder.ss8_embed.weight', 'esm_model.encoder.sasa_embed.weight', 'esm_model.encoder.function_embed.0.weight', 'esm_model.encoder.function_embed.1.weight', 'esm_model.encoder.function_embed.2.weight', 'esm_model.encoder.function_embed.3.weight', 'esm_model.encoder.function_embed.4.weight', 'esm_model.encoder.function_embed.5.weight', 'esm_model.encoder.function_embed.6.weight', 'esm_model.encoder.function_embed.7.weight', 'esm_model.encoder.residue_embed.weight', 'esm_model.transformer.blocks.0.attn.layernorm_qkv.0.weight', 'esm_model.transformer.blocks.0.attn.layernorm_qkv.0.bias', 'esm_model.transformer.blocks.0.attn.layernorm_qkv.1.linear.weight', 'esm_model.transformer.blocks.0.attn.out_proj.linear.weight', 'esm_model.transformer.blocks.0.attn.q_ln.weight', 'esm_model.transformer.blocks.0.attn.k_ln.weight', 'esm_model.transformer.blocks.0.geom_attn.distance_scale_per_head', 'esm_model.transformer.blocks.0.geom_attn.rotation_scale_per_head', 'esm_model.transformer.blocks.0.geom_attn.s_norm.weight', 'esm_model.transformer.blocks.0.geom_attn.proj.linear.weight', 'esm_model.transformer.blocks.0.geom_attn.out_proj.linear.weight', 'esm_model.transformer.blocks.0.ffn.0.weight', 'esm_model.transformer.blocks.0.ffn.0.bias', 'esm_model.transformer.blocks.0.ffn.1.linear.weight', 'esm_model.transformer.blocks.0.ffn.3.linear.weight', 'esm_model.transformer.blocks.1.attn.layernorm_qkv.0.weight', 'esm_model.transformer.blocks.1.attn.layernorm_qkv.0.bias', 'esm_model.transformer.blocks.1.attn.layernorm_qkv.1.linear.weight', 'esm_model.transformer.blocks.1.attn.out_proj.linear.weight', 'esm_model.transformer.blocks.1.attn.q_ln.weight', 'esm_model.transformer.blocks.1.attn.k_ln.weight', 'esm_model.transformer.blocks.1.ffn.0.weight', 'esm_model.transformer.blocks.1.ffn.0.bias', 'esm_model.transformer.blocks.1.ffn.1.linear.weight', 'esm_model.transformer.blocks.1.ffn.3.linear.weight', 'esm_model.transformer.blocks.2.attn.layernorm_qkv.0.weight', 'esm_model.transformer.blocks.2.attn.layernorm_qkv.0.bias', 'esm_model.transformer.blocks.2.attn.layernorm_qkv.1.linear.weight', 'esm_model.transformer.blocks.2.attn.out_proj.linear.weight', 'esm_model.transformer.blocks.2.attn.q_ln.weight', 'esm_model.transformer.blocks.2.attn.k_ln.weight', 'esm_model.transformer.blocks.2.ffn.0.weight', 'esm_model.transformer.blocks.2.ffn.0.bias', 'esm_model.transformer.blocks.2.ffn.1.linear.weight', 'esm_model.transformer.blocks.2.ffn.3.linear.weight', 'esm_model.transformer.blocks.3.attn.layernorm_qkv.0.weight', 'esm_model.transformer.blocks.3.attn.layernorm_qkv.0.bias', 'esm_model.transformer.blocks.3.attn.layernorm_qkv.1.linear.weight', 'esm_model.transformer.blocks.3.attn.out_proj.linear.weight', 'esm_model.transformer.blocks.3.attn.q_ln.weight', 'esm_model.transformer.blocks.3.attn.k_ln.weight', 'esm_model.transformer.blocks.3.ffn.0.weight', 'esm_model.transformer.blocks.3.ffn.0.bias', 'esm_model.transformer.blocks.3.ffn.1.linear.weight', 'esm_model.transformer.blocks.3.ffn.3.linear.weight', 'esm_model.transformer.blocks.4.attn.layernorm_qkv.0.weight', 'esm_model.transformer.blocks.4.attn.layernorm_qkv.0.bias', 'esm_model.transformer.blocks.4.attn.layernorm_qkv.1.linear.weight', 'esm_model.transformer.blocks.4.attn.out_proj.linear.weight', 'esm_model.transformer.blocks.4.attn.q_ln.weight', 'esm_model.transformer.blocks.4.attn.k_ln.weight', 'esm_model.transformer.blocks.4.ffn.0.weight', 'esm_model.transformer.blocks.4.ffn.0.bias', 'esm_model.transformer.blocks.4.ffn.1.linear.weight', 'esm_model.transformer.blocks.4.ffn.3.linear.weight', 'esm_model.transformer.blocks.5.attn.layernorm_qkv.0.weight', 'esm_model.transformer.blocks.5.attn.layernorm_qkv.0.bias', 'esm_model.transformer.blocks.5.attn.layernorm_qkv.1.linear.weight', 'esm_model.transformer.blocks.5.attn.out_proj.linear.weight', 'esm_model.transformer.blocks.5.attn.q_ln.weight', 'esm_model.transformer.blocks.5.attn.k_ln.weight', 'esm_model.transformer.blocks.5.ffn.0.weight', 'esm_model.transformer.blocks.5.ffn.0.bias', 'esm_model.transformer.blocks.5.ffn.1.linear.weight', 'esm_model.transformer.blocks.5.ffn.3.linear.weight', 'esm_model.transformer.blocks.6.attn.layernorm_qkv.0.weight', 'esm_model.transformer.blocks.6.attn.layernorm_qkv.0.bias', 'esm_model.transformer.blocks.6.attn.layernorm_qkv.1.linear.weight', 'esm_model.transformer.blocks.6.attn.out_proj.linear.weight', 'esm_model.transformer.blocks.6.attn.q_ln.weight', 'esm_model.transformer.blocks.6.attn.k_ln.weight', 'esm_model.transformer.blocks.6.ffn.0.weight', 'esm_model.transformer.blocks.6.ffn.0.bias', 'esm_model.transformer.blocks.6.ffn.1.linear.weight', 'esm_model.transformer.blocks.6.ffn.3.linear.weight', 'esm_model.transformer.blocks.7.attn.layernorm_qkv.0.weight', 'esm_model.transformer.blocks.7.attn.layernorm_qkv.0.bias', 'esm_model.transformer.blocks.7.attn.layernorm_qkv.1.linear.weight', 'esm_model.transformer.blocks.7.attn.out_proj.linear.weight', 'esm_model.transformer.blocks.7.attn.q_ln.weight', 'esm_model.transformer.blocks.7.attn.k_ln.weight', 'esm_model.transformer.blocks.7.ffn.0.weight', 'esm_model.transformer.blocks.7.ffn.0.bias', 'esm_model.transformer.blocks.7.ffn.1.linear.weight', 'esm_model.transformer.blocks.7.ffn.3.linear.weight', 'esm_model.transformer.blocks.8.attn.layernorm_qkv.0.weight', 'esm_model.transformer.blocks.8.attn.layernorm_qkv.0.bias', 'esm_model.transformer.blocks.8.attn.layernorm_qkv.1.linear.weight', 'esm_model.transformer.blocks.8.attn.out_proj.linear.weight', 'esm_model.transformer.blocks.8.attn.q_ln.weight', 'esm_model.transformer.blocks.8.attn.k_ln.weight', 'esm_model.transformer.blocks.8.ffn.0.weight', 'esm_model.transformer.blocks.8.ffn.0.bias', 'esm_model.transformer.blocks.8.ffn.1.linear.weight', 'esm_model.transformer.blocks.8.ffn.3.linear.weight', 'esm_model.transformer.blocks.9.attn.layernorm_qkv.0.weight', 'esm_model.transformer.blocks.9.attn.layernorm_qkv.0.bias', 'esm_model.transformer.blocks.9.attn.layernorm_qkv.1.linear.weight', 'esm_model.transformer.blocks.9.attn.out_proj.linear.weight', 'esm_model.transformer.blocks.9.attn.q_ln.weight', 'esm_model.transformer.blocks.9.attn.k_ln.weight', 'esm_model.transformer.blocks.9.ffn.0.weight', 'esm_model.transformer.blocks.9.ffn.0.bias', 'esm_model.transformer.blocks.9.ffn.1.linear.weight', 'esm_model.transformer.blocks.9.ffn.3.linear.weight', 'esm_model.transformer.blocks.10.attn.layernorm_qkv.0.weight', 'esm_model.transformer.blocks.10.attn.layernorm_qkv.0.bias', 'esm_model.transformer.blocks.10.attn.layernorm_qkv.1.linear.weight', 'esm_model.transformer.blocks.10.attn.out_proj.linear.weight', 'esm_model.transformer.blocks.10.attn.q_ln.weight', 'esm_model.transformer.blocks.10.attn.k_ln.weight', 'esm_model.transformer.blocks.10.ffn.0.weight', 'esm_model.transformer.blocks.10.ffn.0.bias', 'esm_model.transformer.blocks.10.ffn.1.linear.weight', 'esm_model.transformer.blocks.10.ffn.3.linear.weight', 'esm_model.transformer.blocks.11.attn.layernorm_qkv.0.weight', 'esm_model.transformer.blocks.11.attn.layernorm_qkv.0.bias', 'esm_model.transformer.blocks.11.attn.layernorm_qkv.1.linear.weight', 'esm_model.transformer.blocks.11.attn.out_proj.linear.weight', 'esm_model.transformer.blocks.11.attn.q_ln.weight', 'esm_model.transformer.blocks.11.attn.k_ln.weight', 'esm_model.transformer.blocks.11.ffn.0.weight', 'esm_model.transformer.blocks.11.ffn.0.bias', 'esm_model.transformer.blocks.11.ffn.1.linear.weight', 'esm_model.transformer.blocks.11.ffn.3.linear.weight', 'esm_model.transformer.blocks.12.attn.layernorm_qkv.0.weight', 'esm_model.transformer.blocks.12.attn.layernorm_qkv.0.bias', 'esm_model.transformer.blocks.12.attn.layernorm_qkv.1.linear.weight', 'esm_model.transformer.blocks.12.attn.out_proj.linear.weight', 'esm_model.transformer.blocks.12.attn.q_ln.weight', 'esm_model.transformer.blocks.12.attn.k_ln.weight', 'esm_model.transformer.blocks.12.ffn.0.weight', 'esm_model.transformer.blocks.12.ffn.0.bias', 'esm_model.transformer.blocks.12.ffn.1.linear.weight', 'esm_model.transformer.blocks.12.ffn.3.linear.weight', 'esm_model.transformer.blocks.13.attn.layernorm_qkv.0.weight', 'esm_model.transformer.blocks.13.attn.layernorm_qkv.0.bias', 'esm_model.transformer.blocks.13.attn.layernorm_qkv.1.linear.weight', 'esm_model.transformer.blocks.13.attn.out_proj.linear.weight', 'esm_model.transformer.blocks.13.attn.q_ln.weight', 'esm_model.transformer.blocks.13.attn.k_ln.weight', 'esm_model.transformer.blocks.13.ffn.0.weight', 'esm_model.transformer.blocks.13.ffn.0.bias', 'esm_model.transformer.blocks.13.ffn.1.linear.weight', 'esm_model.transformer.blocks.13.ffn.3.linear.weight', 'esm_model.transformer.blocks.14.attn.layernorm_qkv.0.weight', 'esm_model.transformer.blocks.14.attn.layernorm_qkv.0.bias', 'esm_model.transformer.blocks.14.attn.layernorm_qkv.1.linear.weight', 'esm_model.transformer.blocks.14.attn.out_proj.linear.weight', 'esm_model.transformer.blocks.14.attn.q_ln.weight', 'esm_model.transformer.blocks.14.attn.k_ln.weight', 'esm_model.transformer.blocks.14.ffn.0.weight', 'esm_model.transformer.blocks.14.ffn.0.bias', 'esm_model.transformer.blocks.14.ffn.1.linear.weight', 'esm_model.transformer.blocks.14.ffn.3.linear.weight', 'esm_model.transformer.blocks.15.attn.layernorm_qkv.0.weight', 'esm_model.transformer.blocks.15.attn.layernorm_qkv.0.bias', 'esm_model.transformer.blocks.15.attn.layernorm_qkv.1.linear.weight', 'esm_model.transformer.blocks.15.attn.out_proj.linear.weight', 'esm_model.transformer.blocks.15.attn.q_ln.weight', 'esm_model.transformer.blocks.15.attn.k_ln.weight', 'esm_model.transformer.blocks.15.ffn.0.weight', 'esm_model.transformer.blocks.15.ffn.0.bias', 'esm_model.transformer.blocks.15.ffn.1.linear.weight', 'esm_model.transformer.blocks.15.ffn.3.linear.weight', 'esm_model.transformer.blocks.16.attn.layernorm_qkv.0.weight', 'esm_model.transformer.blocks.16.attn.layernorm_qkv.0.bias', 'esm_model.transformer.blocks.16.attn.layernorm_qkv.1.linear.weight', 'esm_model.transformer.blocks.16.attn.out_proj.linear.weight', 'esm_model.transformer.blocks.16.attn.q_ln.weight', 'esm_model.transformer.blocks.16.attn.k_ln.weight', 'esm_model.transformer.blocks.16.ffn.0.weight', 'esm_model.transformer.blocks.16.ffn.0.bias', 'esm_model.transformer.blocks.16.ffn.1.linear.weight', 'esm_model.transformer.blocks.16.ffn.3.linear.weight', 'esm_model.transformer.blocks.17.attn.layernorm_qkv.0.weight', 'esm_model.transformer.blocks.17.attn.layernorm_qkv.0.bias', 'esm_model.transformer.blocks.17.attn.layernorm_qkv.1.linear.weight', 'esm_model.transformer.blocks.17.attn.out_proj.linear.weight', 'esm_model.transformer.blocks.17.attn.q_ln.weight', 'esm_model.transformer.blocks.17.attn.k_ln.weight', 'esm_model.transformer.blocks.17.ffn.0.weight', 'esm_model.transformer.blocks.17.ffn.0.bias', 'esm_model.transformer.blocks.17.ffn.1.linear.weight', 'esm_model.transformer.blocks.17.ffn.3.linear.weight', 'esm_model.transformer.blocks.18.attn.layernorm_qkv.0.weight', 'esm_model.transformer.blocks.18.attn.layernorm_qkv.0.bias', 'esm_model.transformer.blocks.18.attn.layernorm_qkv.1.linear.weight', 'esm_model.transformer.blocks.18.attn.out_proj.linear.weight', 'esm_model.transformer.blocks.18.attn.q_ln.weight', 'esm_model.transformer.blocks.18.attn.k_ln.weight', 'esm_model.transformer.blocks.18.ffn.0.weight', 'esm_model.transformer.blocks.18.ffn.0.bias', 'esm_model.transformer.blocks.18.ffn.1.linear.weight', 'esm_model.transformer.blocks.18.ffn.3.linear.weight', 'esm_model.transformer.blocks.19.attn.layernorm_qkv.0.weight', 'esm_model.transformer.blocks.19.attn.layernorm_qkv.0.bias', 'esm_model.transformer.blocks.19.attn.layernorm_qkv.1.linear.weight', 'esm_model.transformer.blocks.19.attn.out_proj.linear.weight', 'esm_model.transformer.blocks.19.attn.q_ln.weight', 'esm_model.transformer.blocks.19.attn.k_ln.weight', 'esm_model.transformer.blocks.19.ffn.0.weight', 'esm_model.transformer.blocks.19.ffn.0.bias', 'esm_model.transformer.blocks.19.ffn.1.linear.weight', 'esm_model.transformer.blocks.19.ffn.3.linear.weight', 'esm_model.transformer.blocks.20.attn.layernorm_qkv.0.weight', 'esm_model.transformer.blocks.20.attn.layernorm_qkv.0.bias', 'esm_model.transformer.blocks.20.attn.layernorm_qkv.1.linear.weight', 'esm_model.transformer.blocks.20.attn.out_proj.linear.weight', 'esm_model.transformer.blocks.20.attn.q_ln.weight', 'esm_model.transformer.blocks.20.attn.k_ln.weight', 'esm_model.transformer.blocks.20.ffn.0.weight', 'esm_model.transformer.blocks.20.ffn.0.bias', 'esm_model.transformer.blocks.20.ffn.1.linear.weight', 'esm_model.transformer.blocks.20.ffn.3.linear.weight', 'esm_model.transformer.blocks.21.attn.layernorm_qkv.0.weight', 'esm_model.transformer.blocks.21.attn.layernorm_qkv.0.bias', 'esm_model.transformer.blocks.21.attn.layernorm_qkv.1.linear.weight', 'esm_model.transformer.blocks.21.attn.out_proj.linear.weight', 'esm_model.transformer.blocks.21.attn.q_ln.weight', 'esm_model.transformer.blocks.21.attn.k_ln.weight', 'esm_model.transformer.blocks.21.ffn.0.weight', 'esm_model.transformer.blocks.21.ffn.0.bias', 'esm_model.transformer.blocks.21.ffn.1.linear.weight', 'esm_model.transformer.blocks.21.ffn.3.linear.weight', 'esm_model.transformer.blocks.22.attn.layernorm_qkv.0.weight', 'esm_model.transformer.blocks.22.attn.layernorm_qkv.0.bias', 'esm_model.transformer.blocks.22.attn.layernorm_qkv.1.linear.weight', 'esm_model.transformer.blocks.22.attn.out_proj.linear.weight', 'esm_model.transformer.blocks.22.attn.q_ln.weight', 'esm_model.transformer.blocks.22.attn.k_ln.weight', 'esm_model.transformer.blocks.22.ffn.0.weight', 'esm_model.transformer.blocks.22.ffn.0.bias', 'esm_model.transformer.blocks.22.ffn.1.linear.weight', 'esm_model.transformer.blocks.22.ffn.3.linear.weight', 'esm_model.transformer.blocks.23.attn.layernorm_qkv.0.weight', 'esm_model.transformer.blocks.23.attn.layernorm_qkv.0.bias', 'esm_model.transformer.blocks.23.attn.layernorm_qkv.1.linear.weight', 'esm_model.transformer.blocks.23.attn.out_proj.linear.weight', 'esm_model.transformer.blocks.23.attn.q_ln.weight', 'esm_model.transformer.blocks.23.attn.k_ln.weight', 'esm_model.transformer.blocks.23.ffn.0.weight', 'esm_model.transformer.blocks.23.ffn.0.bias', 'esm_model.transformer.blocks.23.ffn.1.linear.weight', 'esm_model.transformer.blocks.23.ffn.3.linear.weight', 'esm_model.transformer.blocks.24.attn.layernorm_qkv.0.weight', 'esm_model.transformer.blocks.24.attn.layernorm_qkv.0.bias', 'esm_model.transformer.blocks.24.attn.layernorm_qkv.1.linear.weight', 'esm_model.transformer.blocks.24.attn.out_proj.linear.weight', 'esm_model.transformer.blocks.24.attn.q_ln.weight', 'esm_model.transformer.blocks.24.attn.k_ln.weight', 'esm_model.transformer.blocks.24.ffn.0.weight', 'esm_model.transformer.blocks.24.ffn.0.bias', 'esm_model.transformer.blocks.24.ffn.1.linear.weight', 'esm_model.transformer.blocks.24.ffn.3.linear.weight', 'esm_model.transformer.blocks.25.attn.layernorm_qkv.0.weight', 'esm_model.transformer.blocks.25.attn.layernorm_qkv.0.bias', 'esm_model.transformer.blocks.25.attn.layernorm_qkv.1.linear.weight', 'esm_model.transformer.blocks.25.attn.out_proj.linear.weight', 'esm_model.transformer.blocks.25.attn.q_ln.weight', 'esm_model.transformer.blocks.25.attn.k_ln.weight', 'esm_model.transformer.blocks.25.ffn.0.weight', 'esm_model.transformer.blocks.25.ffn.0.bias', 'esm_model.transformer.blocks.25.ffn.1.linear.weight', 'esm_model.transformer.blocks.25.ffn.3.linear.weight', 'esm_model.transformer.blocks.26.attn.layernorm_qkv.0.weight', 'esm_model.transformer.blocks.26.attn.layernorm_qkv.0.bias', 'esm_model.transformer.blocks.26.attn.layernorm_qkv.1.linear.weight', 'esm_model.transformer.blocks.26.attn.out_proj.linear.weight', 'esm_model.transformer.blocks.26.attn.q_ln.weight', 'esm_model.transformer.blocks.26.attn.k_ln.weight', 'esm_model.transformer.blocks.26.ffn.0.weight', 'esm_model.transformer.blocks.26.ffn.0.bias', 'esm_model.transformer.blocks.26.ffn.1.linear.weight', 'esm_model.transformer.blocks.26.ffn.3.linear.weight', 'esm_model.transformer.blocks.27.attn.layernorm_qkv.0.weight', 'esm_model.transformer.blocks.27.attn.layernorm_qkv.0.bias', 'esm_model.transformer.blocks.27.attn.layernorm_qkv.1.linear.weight', 'esm_model.transformer.blocks.27.attn.out_proj.linear.weight', 'esm_model.transformer.blocks.27.attn.q_ln.weight', 'esm_model.transformer.blocks.27.attn.k_ln.weight', 'esm_model.transformer.blocks.27.ffn.0.weight', 'esm_model.transformer.blocks.27.ffn.0.bias', 'esm_model.transformer.blocks.27.ffn.1.linear.weight', 'esm_model.transformer.blocks.27.ffn.3.linear.weight', 'esm_model.transformer.blocks.28.attn.layernorm_qkv.0.weight', 'esm_model.transformer.blocks.28.attn.layernorm_qkv.0.bias', 'esm_model.transformer.blocks.28.attn.layernorm_qkv.1.linear.weight', 'esm_model.transformer.blocks.28.attn.out_proj.linear.weight', 'esm_model.transformer.blocks.28.attn.q_ln.weight', 'esm_model.transformer.blocks.28.attn.k_ln.weight', 'esm_model.transformer.blocks.28.ffn.0.weight', 'esm_model.transformer.blocks.28.ffn.0.bias', 'esm_model.transformer.blocks.28.ffn.1.linear.weight', 'esm_model.transformer.blocks.28.ffn.3.linear.weight', 'esm_model.transformer.blocks.29.attn.layernorm_qkv.0.weight', 'esm_model.transformer.blocks.29.attn.layernorm_qkv.0.bias', 'esm_model.transformer.blocks.29.attn.layernorm_qkv.1.linear.weight', 'esm_model.transformer.blocks.29.attn.out_proj.linear.weight', 'esm_model.transformer.blocks.29.attn.q_ln.weight', 'esm_model.transformer.blocks.29.attn.k_ln.weight', 'esm_model.transformer.blocks.29.ffn.0.weight', 'esm_model.transformer.blocks.29.ffn.0.bias', 'esm_model.transformer.blocks.29.ffn.1.linear.weight', 'esm_model.transformer.blocks.29.ffn.3.linear.weight', 'esm_model.transformer.blocks.30.attn.layernorm_qkv.0.weight', 'esm_model.transformer.blocks.30.attn.layernorm_qkv.0.bias', 'esm_model.transformer.blocks.30.attn.layernorm_qkv.1.linear.weight', 'esm_model.transformer.blocks.30.attn.out_proj.linear.weight', 'esm_model.transformer.blocks.30.attn.q_ln.weight', 'esm_model.transformer.blocks.30.attn.k_ln.weight', 'esm_model.transformer.blocks.30.ffn.0.weight', 'esm_model.transformer.blocks.30.ffn.0.bias', 'esm_model.transformer.blocks.30.ffn.1.linear.weight', 'esm_model.transformer.blocks.30.ffn.3.linear.weight', 'esm_model.transformer.blocks.31.attn.layernorm_qkv.0.weight', 'esm_model.transformer.blocks.31.attn.layernorm_qkv.0.bias', 'esm_model.transformer.blocks.31.attn.layernorm_qkv.1.linear.weight', 'esm_model.transformer.blocks.31.attn.out_proj.linear.weight', 'esm_model.transformer.blocks.31.attn.q_ln.weight', 'esm_model.transformer.blocks.31.attn.k_ln.weight', 'esm_model.transformer.blocks.31.ffn.0.weight', 'esm_model.transformer.blocks.31.ffn.0.bias', 'esm_model.transformer.blocks.31.ffn.1.linear.weight', 'esm_model.transformer.blocks.31.ffn.3.linear.weight', 'esm_model.transformer.blocks.32.attn.layernorm_qkv.0.weight', 'esm_model.transformer.blocks.32.attn.layernorm_qkv.0.bias', 'esm_model.transformer.blocks.32.attn.layernorm_qkv.1.linear.weight', 'esm_model.transformer.blocks.32.attn.out_proj.linear.weight', 'esm_model.transformer.blocks.32.attn.q_ln.weight', 'esm_model.transformer.blocks.32.attn.k_ln.weight', 'esm_model.transformer.blocks.32.ffn.0.weight', 'esm_model.transformer.blocks.32.ffn.0.bias', 'esm_model.transformer.blocks.32.ffn.1.linear.weight', 'esm_model.transformer.blocks.32.ffn.3.linear.weight', 'esm_model.transformer.blocks.33.attn.layernorm_qkv.0.weight', 'esm_model.transformer.blocks.33.attn.layernorm_qkv.0.bias', 'esm_model.transformer.blocks.33.attn.layernorm_qkv.1.linear.weight', 'esm_model.transformer.blocks.33.attn.out_proj.linear.weight', 'esm_model.transformer.blocks.33.attn.q_ln.weight', 'esm_model.transformer.blocks.33.attn.k_ln.weight', 'esm_model.transformer.blocks.33.ffn.0.weight', 'esm_model.transformer.blocks.33.ffn.0.bias', 'esm_model.transformer.blocks.33.ffn.1.linear.weight', 'esm_model.transformer.blocks.33.ffn.3.linear.weight', 'esm_model.transformer.blocks.34.attn.layernorm_qkv.0.weight', 'esm_model.transformer.blocks.34.attn.layernorm_qkv.0.bias', 'esm_model.transformer.blocks.34.attn.layernorm_qkv.1.linear.weight', 'esm_model.transformer.blocks.34.attn.out_proj.linear.weight', 'esm_model.transformer.blocks.34.attn.q_ln.weight', 'esm_model.transformer.blocks.34.attn.k_ln.weight', 'esm_model.transformer.blocks.34.ffn.0.weight', 'esm_model.transformer.blocks.34.ffn.0.bias', 'esm_model.transformer.blocks.34.ffn.1.linear.weight', 'esm_model.transformer.blocks.34.ffn.3.linear.weight', 'esm_model.transformer.blocks.35.attn.layernorm_qkv.0.weight', 'esm_model.transformer.blocks.35.attn.layernorm_qkv.0.bias', 'esm_model.transformer.blocks.35.attn.layernorm_qkv.1.linear.weight', 'esm_model.transformer.blocks.35.attn.out_proj.linear.weight', 'esm_model.transformer.blocks.35.attn.q_ln.weight', 'esm_model.transformer.blocks.35.attn.k_ln.weight', 'esm_model.transformer.blocks.35.ffn.0.weight', 'esm_model.transformer.blocks.35.ffn.0.bias', 'esm_model.transformer.blocks.35.ffn.1.linear.weight', 'esm_model.transformer.blocks.35.ffn.3.linear.weight', 'esm_model.transformer.blocks.36.attn.layernorm_qkv.0.weight', 'esm_model.transformer.blocks.36.attn.layernorm_qkv.0.bias', 'esm_model.transformer.blocks.36.attn.layernorm_qkv.1.linear.weight', 'esm_model.transformer.blocks.36.attn.out_proj.linear.weight', 'esm_model.transformer.blocks.36.attn.q_ln.weight', 'esm_model.transformer.blocks.36.attn.k_ln.weight', 'esm_model.transformer.blocks.36.ffn.0.weight', 'esm_model.transformer.blocks.36.ffn.0.bias', 'esm_model.transformer.blocks.36.ffn.1.linear.weight', 'esm_model.transformer.blocks.36.ffn.3.linear.weight', 'esm_model.transformer.blocks.37.attn.layernorm_qkv.0.weight', 'esm_model.transformer.blocks.37.attn.layernorm_qkv.0.bias', 'esm_model.transformer.blocks.37.attn.layernorm_qkv.1.linear.weight', 'esm_model.transformer.blocks.37.attn.out_proj.linear.weight', 'esm_model.transformer.blocks.37.attn.q_ln.weight', 'esm_model.transformer.blocks.37.attn.k_ln.weight', 'esm_model.transformer.blocks.37.ffn.0.weight', 'esm_model.transformer.blocks.37.ffn.0.bias', 'esm_model.transformer.blocks.37.ffn.1.linear.weight', 'esm_model.transformer.blocks.37.ffn.3.linear.weight', 'esm_model.transformer.blocks.38.attn.layernorm_qkv.0.weight', 'esm_model.transformer.blocks.38.attn.layernorm_qkv.0.bias', 'esm_model.transformer.blocks.38.attn.layernorm_qkv.1.linear.weight', 'esm_model.transformer.blocks.38.attn.out_proj.linear.weight', 'esm_model.transformer.blocks.38.attn.q_ln.weight', 'esm_model.transformer.blocks.38.attn.k_ln.weight', 'esm_model.transformer.blocks.38.ffn.0.weight', 'esm_model.transformer.blocks.38.ffn.0.bias', 'esm_model.transformer.blocks.38.ffn.1.linear.weight', 'esm_model.transformer.blocks.38.ffn.3.linear.weight', 'esm_model.transformer.blocks.39.attn.layernorm_qkv.0.weight', 'esm_model.transformer.blocks.39.attn.layernorm_qkv.0.bias', 'esm_model.transformer.blocks.39.attn.layernorm_qkv.1.linear.weight', 'esm_model.transformer.blocks.39.attn.out_proj.linear.weight', 'esm_model.transformer.blocks.39.attn.q_ln.weight', 'esm_model.transformer.blocks.39.attn.k_ln.weight', 'esm_model.transformer.blocks.39.ffn.0.weight', 'esm_model.transformer.blocks.39.ffn.0.bias', 'esm_model.transformer.blocks.39.ffn.1.linear.weight', 'esm_model.transformer.blocks.39.ffn.3.linear.weight', 'esm_model.transformer.blocks.40.attn.layernorm_qkv.0.weight', 'esm_model.transformer.blocks.40.attn.layernorm_qkv.0.bias', 'esm_model.transformer.blocks.40.attn.layernorm_qkv.1.linear.weight', 'esm_model.transformer.blocks.40.attn.out_proj.linear.weight', 'esm_model.transformer.blocks.40.attn.q_ln.weight', 'esm_model.transformer.blocks.40.attn.k_ln.weight', 'esm_model.transformer.blocks.40.ffn.0.weight', 'esm_model.transformer.blocks.40.ffn.0.bias', 'esm_model.transformer.blocks.40.ffn.1.linear.weight', 'esm_model.transformer.blocks.40.ffn.3.linear.weight', 'esm_model.transformer.blocks.41.attn.layernorm_qkv.0.weight', 'esm_model.transformer.blocks.41.attn.layernorm_qkv.0.bias', 'esm_model.transformer.blocks.41.attn.layernorm_qkv.1.linear.weight', 'esm_model.transformer.blocks.41.attn.out_proj.linear.weight', 'esm_model.transformer.blocks.41.attn.q_ln.weight', 'esm_model.transformer.blocks.41.attn.k_ln.weight', 'esm_model.transformer.blocks.41.ffn.0.weight', 'esm_model.transformer.blocks.41.ffn.0.bias', 'esm_model.transformer.blocks.41.ffn.1.linear.weight', 'esm_model.transformer.blocks.41.ffn.3.linear.weight', 'esm_model.transformer.blocks.42.attn.layernorm_qkv.0.weight', 'esm_model.transformer.blocks.42.attn.layernorm_qkv.0.bias', 'esm_model.transformer.blocks.42.attn.layernorm_qkv.1.linear.weight', 'esm_model.transformer.blocks.42.attn.out_proj.linear.weight', 'esm_model.transformer.blocks.42.attn.q_ln.weight', 'esm_model.transformer.blocks.42.attn.k_ln.weight', 'esm_model.transformer.blocks.42.ffn.0.weight', 'esm_model.transformer.blocks.42.ffn.0.bias', 'esm_model.transformer.blocks.42.ffn.1.linear.weight', 'esm_model.transformer.blocks.42.ffn.3.linear.weight', 'esm_model.transformer.blocks.43.attn.layernorm_qkv.0.weight', 'esm_model.transformer.blocks.43.attn.layernorm_qkv.0.bias', 'esm_model.transformer.blocks.43.attn.layernorm_qkv.1.linear.weight', 'esm_model.transformer.blocks.43.attn.out_proj.linear.weight', 'esm_model.transformer.blocks.43.attn.q_ln.weight', 'esm_model.transformer.blocks.43.attn.k_ln.weight', 'esm_model.transformer.blocks.43.ffn.0.weight', 'esm_model.transformer.blocks.43.ffn.0.bias', 'esm_model.transformer.blocks.43.ffn.1.linear.weight', 'esm_model.transformer.blocks.43.ffn.3.linear.weight', 'esm_model.transformer.blocks.44.attn.layernorm_qkv.0.weight', 'esm_model.transformer.blocks.44.attn.layernorm_qkv.0.bias', 'esm_model.transformer.blocks.44.attn.layernorm_qkv.1.linear.weight', 'esm_model.transformer.blocks.44.attn.out_proj.linear.weight', 'esm_model.transformer.blocks.44.attn.q_ln.weight', 'esm_model.transformer.blocks.44.attn.k_ln.weight', 'esm_model.transformer.blocks.44.ffn.0.weight', 'esm_model.transformer.blocks.44.ffn.0.bias', 'esm_model.transformer.blocks.44.ffn.1.linear.weight', 'esm_model.transformer.blocks.44.ffn.3.linear.weight', 'esm_model.transformer.blocks.45.attn.layernorm_qkv.0.weight', 'esm_model.transformer.blocks.45.attn.layernorm_qkv.0.bias', 'esm_model.transformer.blocks.45.attn.layernorm_qkv.1.linear.weight', 'esm_model.transformer.blocks.45.attn.out_proj.linear.weight', 'esm_model.transformer.blocks.45.attn.q_ln.weight', 'esm_model.transformer.blocks.45.attn.k_ln.weight', 'esm_model.transformer.blocks.45.ffn.0.weight', 'esm_model.transformer.blocks.45.ffn.0.bias', 'esm_model.transformer.blocks.45.ffn.1.linear.weight', 'esm_model.transformer.blocks.45.ffn.3.linear.weight', 'esm_model.transformer.blocks.46.attn.layernorm_qkv.0.weight', 'esm_model.transformer.blocks.46.attn.layernorm_qkv.0.bias', 'esm_model.transformer.blocks.46.attn.layernorm_qkv.1.linear.weight', 'esm_model.transformer.blocks.46.attn.out_proj.linear.weight', 'esm_model.transformer.blocks.46.attn.q_ln.weight', 'esm_model.transformer.blocks.46.attn.k_ln.weight', 'esm_model.transformer.blocks.46.ffn.0.weight', 'esm_model.transformer.blocks.46.ffn.0.bias', 'esm_model.transformer.blocks.46.ffn.1.linear.weight', 'esm_model.transformer.blocks.46.ffn.3.linear.weight', 'esm_model.transformer.blocks.47.attn.layernorm_qkv.0.weight', 'esm_model.transformer.blocks.47.attn.layernorm_qkv.0.bias', 'esm_model.transformer.blocks.47.attn.layernorm_qkv.1.linear.weight', 'esm_model.transformer.blocks.47.attn.out_proj.linear.weight', 'esm_model.transformer.blocks.47.attn.q_ln.weight', 'esm_model.transformer.blocks.47.attn.k_ln.weight', 'esm_model.transformer.blocks.47.ffn.0.weight', 'esm_model.transformer.blocks.47.ffn.0.bias', 'esm_model.transformer.blocks.47.ffn.1.linear.weight', 'esm_model.transformer.blocks.47.ffn.3.linear.weight', 'esm_model.transformer.norm.weight', 'esm_model.output_heads.sequence_head.0.weight', 'esm_model.output_heads.sequence_head.0.bias', 'esm_model.output_heads.sequence_head.2.weight', 'esm_model.output_heads.sequence_head.2.bias', 'esm_model.output_heads.sequence_head.3.weight', 'esm_model.output_heads.sequence_head.3.bias', 'esm_model.output_heads.structure_head.0.weight', 'esm_model.output_heads.structure_head.0.bias', 'esm_model.output_heads.structure_head.2.weight', 'esm_model.output_heads.structure_head.2.bias', 'esm_model.output_heads.structure_head.3.weight', 'esm_model.output_heads.structure_head.3.bias', 'esm_model.output_heads.ss8_head.0.weight', 'esm_model.output_heads.ss8_head.0.bias', 'esm_model.output_heads.ss8_head.2.weight', 'esm_model.output_heads.ss8_head.2.bias', 'esm_model.output_heads.ss8_head.3.weight', 'esm_model.output_heads.ss8_head.3.bias', 'esm_model.output_heads.sasa_head.0.weight', 'esm_model.output_heads.sasa_head.0.bias', 'esm_model.output_heads.sasa_head.2.weight', 'esm_model.output_heads.sasa_head.2.bias', 'esm_model.output_heads.sasa_head.3.weight', 'esm_model.output_heads.sasa_head.3.bias', 'esm_model.output_heads.function_head.0.weight', 'esm_model.output_heads.function_head.0.bias', 'esm_model.output_heads.function_head.2.weight', 'esm_model.output_heads.function_head.2.bias', 'esm_model.output_heads.function_head.3.weight', 'esm_model.output_heads.function_head.3.bias', 'esm_model.output_heads.residue_head.0.weight', 'esm_model.output_heads.residue_head.0.bias', 'esm_model.output_heads.residue_head.2.weight', 'esm_model.output_heads.residue_head.2.bias', 'esm_model.output_heads.residue_head.3.weight', 'esm_model.output_heads.residue_head.3.bias'], unexpected_keys=[])"
      ]
     },
     "execution_count": 4,
     "metadata": {},
     "output_type": "execute_result"
    }
   ],
   "source": [
    "a = torch.load(\"/home/tyfei/evoModel/checkpoints/backbone_lr/last.ckpt\")\n",
    "model.load_state_dict(a[\"state_dict\"], strict=False)"
   ]
  },
  {
   "cell_type": "code",
   "execution_count": 5,
   "metadata": {},
   "outputs": [],
   "source": [
    "model.only_embed = True\n",
    "model.tf = -1.0"
   ]
  },
  {
   "cell_type": "code",
   "execution_count": 6,
   "metadata": {},
   "outputs": [],
   "source": [
    "import pickle \n",
    "with open(\"/data/tyfei/datasets/covid/S_aln.pkl\", \"rb\") as f:\n",
    "    S = pickle.load(f)\n",
    "with open(\"/data/tyfei/datasets/covid/NSP5_aln.pkl\", \"rb\") as f:\n",
    "    NSP5 = pickle.load(f)\n",
    "with open(\"/data/tyfei/datasets/covid/E_aln.pkl\", \"rb\") as f:\n",
    "    E = pickle.load(f)\n",
    "    "
   ]
  },
  {
   "cell_type": "code",
   "execution_count": 22,
   "metadata": {},
   "outputs": [],
   "source": [
    "S[0][\"seq_t\"] = torch.tensor(S[0][\"seq_t\"])"
   ]
  },
  {
   "cell_type": "code",
   "execution_count": 7,
   "metadata": {},
   "outputs": [
    {
     "name": "stderr",
     "output_type": "stream",
     "text": [
      "999it [05:49,  2.86it/s]\n"
     ]
    }
   ],
   "source": [
    "from tqdm import tqdm\n",
    "cnt = 0\n",
    "res = []\n",
    "with torch.no_grad():\n",
    "    model = model.cuda(0)\n",
    "    for s, e, nsp5 in tqdm(zip(S, E, NSP5)):\n",
    "        ret = {}\n",
    "        s[\"seq_t\"] = torch.tensor(s[\"seq_t\"]).cuda(0)\n",
    "        ret[\"S\"] = model(s).squeeze().cpu().numpy() \n",
    "        e[\"seq_t\"] = torch.tensor(e[\"seq_t\"]).cuda(0)\n",
    "        ret[\"E\"] = model(e).squeeze().cpu().numpy() \n",
    "        nsp5[\"seq_t\"] = torch.tensor(nsp5[\"seq_t\"]).cuda(0)\n",
    "        ret[\"NSP5\"] = model(nsp5).squeeze().cpu().numpy() \n",
    "        res.append(ret) \n",
    "        cnt += 1 \n",
    "        if (cnt % 1000) == 0:\n",
    "            break\n",
    "        "
   ]
  },
  {
   "cell_type": "code",
   "execution_count": null,
   "metadata": {},
   "outputs": [],
   "source": [
    "with open(\"/data/tyfei/datasets/covid/teststage2_1000.pkl\", \"wb\") as f:\n",
    "    pickle.dump(res, f)"
   ]
  },
  {
   "cell_type": "code",
   "execution_count": 23,
   "metadata": {},
   "outputs": [
    {
     "data": {
      "text/plain": [
       "torch.Size([1, 256])"
      ]
     },
     "execution_count": 23,
     "metadata": {},
     "output_type": "execute_result"
    }
   ],
   "source": [
    "model(S[0]).shape"
   ]
  }
 ],
 "metadata": {
  "kernelspec": {
   "display_name": "esm3",
   "language": "python",
   "name": "python3"
  },
  "language_info": {
   "codemirror_mode": {
    "name": "ipython",
    "version": 3
   },
   "file_extension": ".py",
   "mimetype": "text/x-python",
   "name": "python",
   "nbconvert_exporter": "python",
   "pygments_lexer": "ipython3",
   "version": "3.10.14"
  }
 },
 "nbformat": 4,
 "nbformat_minor": 2
}
