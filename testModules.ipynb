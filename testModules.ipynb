{
 "cells": [
  {
   "cell_type": "code",
   "execution_count": 1,
   "id": "1d0145f1",
   "metadata": {},
   "outputs": [
    {
     "name": "stderr",
     "output_type": "stream",
     "text": [
      "/home/tyfei/anaconda3/envs/esm3/lib/python3.10/site-packages/tqdm/auto.py:21: TqdmWarning: IProgress not found. Please update jupyter and ipywidgets. See https://ipywidgets.readthedocs.io/en/stable/user_install.html\n",
      "  from .autonotebook import tqdm as notebook_tqdm\n"
     ]
    }
   ],
   "source": [
    "import torch\n",
    "import torch.nn as nn\n",
    "import torch.nn.functional as F\n",
    "import modules"
   ]
  },
  {
   "cell_type": "code",
   "execution_count": 3,
   "id": "3ba41618",
   "metadata": {},
   "outputs": [],
   "source": [
    "class testModule(nn.Module):\n",
    "    def __init__(self):\n",
    "        super().__init__()\n",
    "        self.embed = nn.Embedding(30, 100) \n",
    "        self.decoder = modules.DecoderBlock(100, 5, 30, 3) \n",
    "    def forward(self, x):\n",
    "        x = self.embed(x)\n",
    "        x = self.decoder(x)\n",
    "        return x"
   ]
  },
  {
   "cell_type": "code",
   "execution_count": null,
   "id": "119de7e5",
   "metadata": {},
   "outputs": [],
   "source": [
    "model = testModule()\n",
    "optim = torch.optim.Adam(model.parameters(), lr=0.001)\n",
    "cri = nn.CrossEntropyLoss()\n",
    "for i in range(200):\n",
    "    x = torch.randint(1, 30, (32, 10))\n",
    "    x[:, -1] = 0\n",
    "    y = x.clone()\n",
    "    y[:, 1:] = x[:, :-1]\n",
    "    y[:, 0] = 0  # Set the first token to a specific value (e.g., 0)\n",
    "    optim.zero_grad()\n",
    "    out = model(x)\n",
    "    loss = cri(out.view(-1, 30), y.view(-1))\n",
    "    loss.backward()\n",
    "    optim.step()\n",
    "    if i % 20 == 0:\n",
    "        print(f\"Step {i}, Loss: {loss.item()}\")"
   ]
  },
  {
   "cell_type": "code",
   "execution_count": null,
   "id": "10717849",
   "metadata": {},
   "outputs": [],
   "source": []
  },
  {
   "cell_type": "code",
   "execution_count": null,
   "id": "dfcf9740",
   "metadata": {},
   "outputs": [],
   "source": []
  }
 ],
 "metadata": {
  "kernelspec": {
   "display_name": "esm3",
   "language": "python",
   "name": "python3"
  },
  "language_info": {
   "codemirror_mode": {
    "name": "ipython",
    "version": 3
   },
   "file_extension": ".py",
   "mimetype": "text/x-python",
   "name": "python",
   "nbconvert_exporter": "python",
   "pygments_lexer": "ipython3",
   "version": "3.10.14"
  }
 },
 "nbformat": 4,
 "nbformat_minor": 5
}
